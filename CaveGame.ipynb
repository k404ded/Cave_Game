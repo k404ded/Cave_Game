{
  "nbformat": 4,
  "nbformat_minor": 0,
  "metadata": {
    "colab": {
      "provenance": []
    },
    "kernelspec": {
      "name": "python3",
      "display_name": "Python 3"
    },
    "language_info": {
      "name": "python"
    }
  },
  "cells": [
    {
      "cell_type": "code",
      "execution_count": 1,
      "metadata": {
        "colab": {
          "base_uri": "https://localhost:8080/"
        },
        "id": "7KDVZfoc_ZGn",
        "outputId": "94797612-baf8-429f-9eaf-0eebfd6f481a"
      },
      "outputs": [
        {
          "output_type": "stream",
          "name": "stdout",
          "text": [
            "Welcome to the Adventure Game!\n",
            "You find yourself in a dark forest. There are two paths ahead of you.\n",
            "One path leads to a mysterious cave, and the other leads to an old bridge.\n",
            "Do you go to the (1) cave or (2) bridge? Enter 1 or 2: 1\n",
            "\n",
            "You enter the cave. It's dark and damp.\n",
            "You see a glowing treasure chest and a sleeping dragon.\n",
            "Do you (1) open the chest or (2) sneak past the dragon? Enter 1 or 2: 1\n",
            "\n",
            "You open the chest and find a pile of gold! You win!\n",
            "\n",
            "Do you want to play again? (yes/no): no \n",
            "Thanks for playing! Goodbye!\n"
          ]
        }
      ],
      "source": [
        "import time\n",
        "\n",
        "def intro():\n",
        "    print(\"Welcome to the Adventure Game!\")\n",
        "    time.sleep(1)\n",
        "    print(\"You find yourself in a dark forest. There are two paths ahead of you.\")\n",
        "    time.sleep(1)\n",
        "    print(\"One path leads to a mysterious cave, and the other leads to an old bridge.\")\n",
        "    time.sleep(1)\n",
        "    choice = input(\"Do you go to the (1) cave or (2) bridge? Enter 1 or 2: \")\n",
        "\n",
        "    if choice == \"1\":\n",
        "        cave()\n",
        "    elif choice == \"2\":\n",
        "        bridge()\n",
        "    else:\n",
        "        print(\"Invalid choice. Please try again.\")\n",
        "        intro()\n",
        "\n",
        "def cave():\n",
        "    print(\"\\nYou enter the cave. It's dark and damp.\")\n",
        "    time.sleep(1)\n",
        "    print(\"You see a glowing treasure chest and a sleeping dragon.\")\n",
        "    time.sleep(1)\n",
        "    choice = input(\"Do you (1) open the chest or (2) sneak past the dragon? Enter 1 or 2: \")\n",
        "\n",
        "    if choice == \"1\":\n",
        "        print(\"\\nYou open the chest and find a pile of gold! You win!\")\n",
        "    elif choice == \"2\":\n",
        "        print(\"\\nYou try to sneak past the dragon, but it wakes up and breathes fire on you. Game over!\")\n",
        "    else:\n",
        "        print(\"Invalid choice. Please try again.\")\n",
        "        cave()\n",
        "\n",
        "def bridge():\n",
        "    print(\"\\nYou approach the old bridge. It looks unstable.\")\n",
        "    time.sleep(1)\n",
        "    print(\"You hear rushing water below and see a troll guarding the bridge.\")\n",
        "    time.sleep(1)\n",
        "    choice = input(\"Do you (1) fight the troll or (2) try to cross the bridge quietly? Enter 1 or 2: \")\n",
        "\n",
        "    if choice == \"1\":\n",
        "        print(\"\\nYou fight the troll but are no match for its strength. Game over!\")\n",
        "    elif choice == \"2\":\n",
        "        print(\"\\nYou successfully cross the bridge and find a hidden village. You win!\")\n",
        "    else:\n",
        "        print(\"Invalid choice. Please try again.\")\n",
        "        bridge()\n",
        "\n",
        "def play_again():\n",
        "    choice = input(\"\\nDo you want to play again? (yes/no): \").lower()\n",
        "    if choice == \"yes\":\n",
        "        intro()\n",
        "    else:\n",
        "        print(\"Thanks for playing! Goodbye!\")\n",
        "\n",
        "if __name__ == \"__main__\":\n",
        "    intro()\n",
        "    play_again()"
      ]
    },
    {
      "cell_type": "code",
      "source": [],
      "metadata": {
        "id": "4PTP_Kv3_fZH"
      },
      "execution_count": null,
      "outputs": []
    }
  ]
}